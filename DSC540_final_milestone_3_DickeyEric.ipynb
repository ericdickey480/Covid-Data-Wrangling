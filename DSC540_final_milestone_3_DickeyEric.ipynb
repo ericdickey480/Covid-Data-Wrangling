{
 "cells": [
  {
   "cell_type": "markdown",
   "id": "adaa4130-9954-4330-89ed-c1dc1acee4eb",
   "metadata": {},
   "source": [
    "<h1>Final Project Milestone 3</h1>"
   ]
  },
  {
   "cell_type": "markdown",
   "id": "daa47117-6403-4897-9f04-17815738e6f5",
   "metadata": {},
   "source": [
    "Information pulled from - https://en.wikipedia.org/wiki/Template:COVID-19_pandemic_data\n",
    "<br><i>* Webpage information source changed from week 1 due to workabilty issues related to embedded table</i>"
   ]
  },
  {
   "cell_type": "code",
   "execution_count": 1,
   "id": "a89c04f7-6f2b-4490-97bf-c4f87aa429d4",
   "metadata": {},
   "outputs": [],
   "source": [
    "#libraries\n",
    "import pandas as pd \n",
    "import requests \n",
    "from bs4 import BeautifulSoup\n",
    "import numpy as np"
   ]
  },
  {
   "cell_type": "markdown",
   "id": "ec368ed4-9396-40de-9866-51d50514265a",
   "metadata": {},
   "source": [
    "<h3>1. Scrape webpage and place into a Data Frame as a readable format"
   ]
  },
  {
   "cell_type": "code",
   "execution_count": 2,
   "id": "ac79a0e4-38b3-4bd0-a3ae-1dd6c7d3bfcf",
   "metadata": {},
   "outputs": [
    {
     "name": "stdout",
     "output_type": "stream",
     "text": [
      "200\n"
     ]
    }
   ],
   "source": [
    "# get the response in the form of html\n",
    "wikiurl=\"https://en.wikipedia.org/wiki/Template:COVID-19_pandemic_data\"\n",
    "table_class=\"wikitable sortable jquery-tablesorter\"\n",
    "response=requests.get(wikiurl)\n",
    "\n",
    "#print response code to check if we are ok to scrape\n",
    "print(response.status_code)"
   ]
  },
  {
   "cell_type": "code",
   "execution_count": 3,
   "id": "e18579e2-e521-4934-8ad1-58814ba971db",
   "metadata": {},
   "outputs": [],
   "source": [
    "# parse data from the html into a beautifulsoup object\n",
    "soup = BeautifulSoup(response.text, 'html.parser')\n",
    "covidtable=soup.find('table',{'class':\"wikitable\"})"
   ]
  },
  {
   "cell_type": "code",
   "execution_count": 4,
   "id": "b97158dc-7aca-4a4d-90d1-70b150b104ec",
   "metadata": {},
   "outputs": [
    {
     "name": "stdout",
     "output_type": "stream",
     "text": [
      "  Location         Location.1      Cases   Deaths Unnamed: 4 Unnamed: 5  \\\n",
      "0      NaN           World[a]  242987401  4938251        NaN        NaN   \n",
      "1      NaN      United States   45400466   735373        NaN        NaN   \n",
      "2      NaN  European Union[b]   39371457   788718        NaN        NaN   \n",
      "3      NaN              India   34159562   453708        NaN        NaN   \n",
      "4      NaN             Brazil   21711843   605139        NaN        NaN   \n",
      "\n",
      "  Unnamed: 6 Unnamed: 7  \n",
      "0        NaN        NaN  \n",
      "1        NaN        NaN  \n",
      "2        NaN        NaN  \n",
      "3        NaN        NaN  \n",
      "4        NaN        NaN  \n"
     ]
    }
   ],
   "source": [
    "df=pd.read_html(str(covidtable))\n",
    "\n",
    "# convert list to dataframe\n",
    "df=pd.DataFrame(df[0])\n",
    "print(df.head())"
   ]
  },
  {
   "cell_type": "markdown",
   "id": "2d93002a-c973-4de1-ad34-bd68836b39ff",
   "metadata": {},
   "source": [
    "<h3>2. Create a subset of data for columns with values</h3>"
   ]
  },
  {
   "cell_type": "code",
   "execution_count": 5,
   "id": "5078876a-87c6-4da4-8a86-a412addf1316",
   "metadata": {},
   "outputs": [],
   "source": [
    "df = df[[\"Location.1\",\"Cases\",\"Deaths\"]]"
   ]
  },
  {
   "cell_type": "code",
   "execution_count": 6,
   "id": "9b5fbb29-706b-407a-884c-749fdeff1953",
   "metadata": {},
   "outputs": [
    {
     "data": {
      "text/html": [
       "<div>\n",
       "<style scoped>\n",
       "    .dataframe tbody tr th:only-of-type {\n",
       "        vertical-align: middle;\n",
       "    }\n",
       "\n",
       "    .dataframe tbody tr th {\n",
       "        vertical-align: top;\n",
       "    }\n",
       "\n",
       "    .dataframe thead th {\n",
       "        text-align: right;\n",
       "    }\n",
       "</style>\n",
       "<table border=\"1\" class=\"dataframe\">\n",
       "  <thead>\n",
       "    <tr style=\"text-align: right;\">\n",
       "      <th></th>\n",
       "      <th>Location.1</th>\n",
       "      <th>Cases</th>\n",
       "      <th>Deaths</th>\n",
       "    </tr>\n",
       "  </thead>\n",
       "  <tbody>\n",
       "    <tr>\n",
       "      <th>0</th>\n",
       "      <td>World[a]</td>\n",
       "      <td>242987401</td>\n",
       "      <td>4938251</td>\n",
       "    </tr>\n",
       "    <tr>\n",
       "      <th>1</th>\n",
       "      <td>United States</td>\n",
       "      <td>45400466</td>\n",
       "      <td>735373</td>\n",
       "    </tr>\n",
       "    <tr>\n",
       "      <th>2</th>\n",
       "      <td>European Union[b]</td>\n",
       "      <td>39371457</td>\n",
       "      <td>788718</td>\n",
       "    </tr>\n",
       "    <tr>\n",
       "      <th>3</th>\n",
       "      <td>India</td>\n",
       "      <td>34159562</td>\n",
       "      <td>453708</td>\n",
       "    </tr>\n",
       "    <tr>\n",
       "      <th>4</th>\n",
       "      <td>Brazil</td>\n",
       "      <td>21711843</td>\n",
       "      <td>605139</td>\n",
       "    </tr>\n",
       "    <tr>\n",
       "      <th>...</th>\n",
       "      <td>...</td>\n",
       "      <td>...</td>\n",
       "      <td>...</td>\n",
       "    </tr>\n",
       "    <tr>\n",
       "      <th>191</th>\n",
       "      <td>Marshall Islands</td>\n",
       "      <td>4</td>\n",
       "      <td>—</td>\n",
       "    </tr>\n",
       "    <tr>\n",
       "      <th>192</th>\n",
       "      <td>Samoa</td>\n",
       "      <td>3</td>\n",
       "      <td>—</td>\n",
       "    </tr>\n",
       "    <tr>\n",
       "      <th>193</th>\n",
       "      <td>Kiribati</td>\n",
       "      <td>2</td>\n",
       "      <td>—</td>\n",
       "    </tr>\n",
       "    <tr>\n",
       "      <th>194</th>\n",
       "      <td>Federated States of Micronesia</td>\n",
       "      <td>1</td>\n",
       "      <td>0</td>\n",
       "    </tr>\n",
       "    <tr>\n",
       "      <th>195</th>\n",
       "      <td>.mw-parser-output .reflist{font-size:90%;margi...</td>\n",
       "      <td>.mw-parser-output .reflist{font-size:90%;margi...</td>\n",
       "      <td>.mw-parser-output .reflist{font-size:90%;margi...</td>\n",
       "    </tr>\n",
       "  </tbody>\n",
       "</table>\n",
       "<p>196 rows × 3 columns</p>\n",
       "</div>"
      ],
      "text/plain": [
       "                                            Location.1  \\\n",
       "0                                             World[a]   \n",
       "1                                        United States   \n",
       "2                                    European Union[b]   \n",
       "3                                                India   \n",
       "4                                               Brazil   \n",
       "..                                                 ...   \n",
       "191                                   Marshall Islands   \n",
       "192                                              Samoa   \n",
       "193                                           Kiribati   \n",
       "194                     Federated States of Micronesia   \n",
       "195  .mw-parser-output .reflist{font-size:90%;margi...   \n",
       "\n",
       "                                                 Cases  \\\n",
       "0                                            242987401   \n",
       "1                                             45400466   \n",
       "2                                             39371457   \n",
       "3                                             34159562   \n",
       "4                                             21711843   \n",
       "..                                                 ...   \n",
       "191                                                  4   \n",
       "192                                                  3   \n",
       "193                                                  2   \n",
       "194                                                  1   \n",
       "195  .mw-parser-output .reflist{font-size:90%;margi...   \n",
       "\n",
       "                                                Deaths  \n",
       "0                                              4938251  \n",
       "1                                               735373  \n",
       "2                                               788718  \n",
       "3                                               453708  \n",
       "4                                               605139  \n",
       "..                                                 ...  \n",
       "191                                                  —  \n",
       "192                                                  —  \n",
       "193                                                  —  \n",
       "194                                                  0  \n",
       "195  .mw-parser-output .reflist{font-size:90%;margi...  \n",
       "\n",
       "[196 rows x 3 columns]"
      ]
     },
     "execution_count": 6,
     "metadata": {},
     "output_type": "execute_result"
    }
   ],
   "source": [
    "df"
   ]
  },
  {
   "cell_type": "markdown",
   "id": "0c0ad2f4-65b0-44f8-877d-bfc54f99224f",
   "metadata": {},
   "source": [
    "<h3>3. Rename column with more appropriate name</h3>"
   ]
  },
  {
   "cell_type": "code",
   "execution_count": 7,
   "id": "4c39fd5e-2fc1-4f68-a172-ede9c7b9ef5c",
   "metadata": {},
   "outputs": [],
   "source": [
    "df = df.rename(columns = {\"Location.1\":\"country\"})"
   ]
  },
  {
   "cell_type": "code",
   "execution_count": 8,
   "id": "7e4b5a47-6a80-4166-9b0f-cd90195dab77",
   "metadata": {},
   "outputs": [
    {
     "data": {
      "text/html": [
       "<div>\n",
       "<style scoped>\n",
       "    .dataframe tbody tr th:only-of-type {\n",
       "        vertical-align: middle;\n",
       "    }\n",
       "\n",
       "    .dataframe tbody tr th {\n",
       "        vertical-align: top;\n",
       "    }\n",
       "\n",
       "    .dataframe thead th {\n",
       "        text-align: right;\n",
       "    }\n",
       "</style>\n",
       "<table border=\"1\" class=\"dataframe\">\n",
       "  <thead>\n",
       "    <tr style=\"text-align: right;\">\n",
       "      <th></th>\n",
       "      <th>country</th>\n",
       "      <th>Cases</th>\n",
       "      <th>Deaths</th>\n",
       "    </tr>\n",
       "  </thead>\n",
       "  <tbody>\n",
       "    <tr>\n",
       "      <th>0</th>\n",
       "      <td>World[a]</td>\n",
       "      <td>242987401</td>\n",
       "      <td>4938251</td>\n",
       "    </tr>\n",
       "    <tr>\n",
       "      <th>1</th>\n",
       "      <td>United States</td>\n",
       "      <td>45400466</td>\n",
       "      <td>735373</td>\n",
       "    </tr>\n",
       "    <tr>\n",
       "      <th>2</th>\n",
       "      <td>European Union[b]</td>\n",
       "      <td>39371457</td>\n",
       "      <td>788718</td>\n",
       "    </tr>\n",
       "    <tr>\n",
       "      <th>3</th>\n",
       "      <td>India</td>\n",
       "      <td>34159562</td>\n",
       "      <td>453708</td>\n",
       "    </tr>\n",
       "    <tr>\n",
       "      <th>4</th>\n",
       "      <td>Brazil</td>\n",
       "      <td>21711843</td>\n",
       "      <td>605139</td>\n",
       "    </tr>\n",
       "    <tr>\n",
       "      <th>...</th>\n",
       "      <td>...</td>\n",
       "      <td>...</td>\n",
       "      <td>...</td>\n",
       "    </tr>\n",
       "    <tr>\n",
       "      <th>191</th>\n",
       "      <td>Marshall Islands</td>\n",
       "      <td>4</td>\n",
       "      <td>—</td>\n",
       "    </tr>\n",
       "    <tr>\n",
       "      <th>192</th>\n",
       "      <td>Samoa</td>\n",
       "      <td>3</td>\n",
       "      <td>—</td>\n",
       "    </tr>\n",
       "    <tr>\n",
       "      <th>193</th>\n",
       "      <td>Kiribati</td>\n",
       "      <td>2</td>\n",
       "      <td>—</td>\n",
       "    </tr>\n",
       "    <tr>\n",
       "      <th>194</th>\n",
       "      <td>Federated States of Micronesia</td>\n",
       "      <td>1</td>\n",
       "      <td>0</td>\n",
       "    </tr>\n",
       "    <tr>\n",
       "      <th>195</th>\n",
       "      <td>.mw-parser-output .reflist{font-size:90%;margi...</td>\n",
       "      <td>.mw-parser-output .reflist{font-size:90%;margi...</td>\n",
       "      <td>.mw-parser-output .reflist{font-size:90%;margi...</td>\n",
       "    </tr>\n",
       "  </tbody>\n",
       "</table>\n",
       "<p>196 rows × 3 columns</p>\n",
       "</div>"
      ],
      "text/plain": [
       "                                               country  \\\n",
       "0                                             World[a]   \n",
       "1                                        United States   \n",
       "2                                    European Union[b]   \n",
       "3                                                India   \n",
       "4                                               Brazil   \n",
       "..                                                 ...   \n",
       "191                                   Marshall Islands   \n",
       "192                                              Samoa   \n",
       "193                                           Kiribati   \n",
       "194                     Federated States of Micronesia   \n",
       "195  .mw-parser-output .reflist{font-size:90%;margi...   \n",
       "\n",
       "                                                 Cases  \\\n",
       "0                                            242987401   \n",
       "1                                             45400466   \n",
       "2                                             39371457   \n",
       "3                                             34159562   \n",
       "4                                             21711843   \n",
       "..                                                 ...   \n",
       "191                                                  4   \n",
       "192                                                  3   \n",
       "193                                                  2   \n",
       "194                                                  1   \n",
       "195  .mw-parser-output .reflist{font-size:90%;margi...   \n",
       "\n",
       "                                                Deaths  \n",
       "0                                              4938251  \n",
       "1                                               735373  \n",
       "2                                               788718  \n",
       "3                                               453708  \n",
       "4                                               605139  \n",
       "..                                                 ...  \n",
       "191                                                  —  \n",
       "192                                                  —  \n",
       "193                                                  —  \n",
       "194                                                  0  \n",
       "195  .mw-parser-output .reflist{font-size:90%;margi...  \n",
       "\n",
       "[196 rows x 3 columns]"
      ]
     },
     "execution_count": 8,
     "metadata": {},
     "output_type": "execute_result"
    }
   ],
   "source": [
    "df"
   ]
  },
  {
   "cell_type": "markdown",
   "id": "bff934ca-89f1-4b60-92f9-ef3d6b9764e8",
   "metadata": {},
   "source": [
    "<h3>4. Check values for malformed or invalid values in country</h3>"
   ]
  },
  {
   "cell_type": "code",
   "execution_count": 9,
   "id": "fe609e87-54c6-45fc-9550-880774fa6cfb",
   "metadata": {},
   "outputs": [
    {
     "data": {
      "text/plain": [
       "array([\".mw-parser-output .reflist{font-size:90%;margin-bottom:0.5em;list-style-type:decimal}.mw-parser-output .reflist .references{font-size:100%;margin-bottom:0;list-style-type:inherit}.mw-parser-output .reflist-columns-2{column-width:30em}.mw-parser-output .reflist-columns-3{column-width:25em}.mw-parser-output .reflist-columns{margin-top:0.3em}.mw-parser-output .reflist-columns ol{margin-top:0}.mw-parser-output .reflist-columns li{page-break-inside:avoid;break-inside:avoid-column}.mw-parser-output .reflist-upper-alpha{list-style-type:upper-alpha}.mw-parser-output .reflist-upper-roman{list-style-type:upper-roman}.mw-parser-output .reflist-lower-alpha{list-style-type:lower-alpha}.mw-parser-output .reflist-lower-greek{list-style-type:lower-greek}.mw-parser-output .reflist-lower-roman{list-style-type:lower-roman} ^ Countries which do not report data for a column are not included in that column's world total. ^ Data on member states of the European Union are individually listed, but are also summed here for convenience. They are not double-counted in world totals. ^ Does not include special administrative regions (Hong Kong and Macau) or Taiwan.\",\n",
       "       'Afghanistan', 'Albania', 'Algeria', 'Andorra', 'Angola',\n",
       "       'Antigua and Barbuda', 'Argentina', 'Armenia', 'Australia',\n",
       "       'Austria', 'Azerbaijan', 'Bahamas', 'Bahrain', 'Bangladesh',\n",
       "       'Barbados', 'Belarus', 'Belgium', 'Belize', 'Benin', 'Bhutan',\n",
       "       'Bolivia', 'Bosnia and Herzegovina', 'Botswana', 'Brazil',\n",
       "       'Brunei', 'Bulgaria', 'Burkina Faso', 'Burundi', 'Cabo Verde',\n",
       "       'Cambodia', 'Cameroon', 'Canada', 'Central African Republic',\n",
       "       'Chad', 'Chile', 'China[c]', 'Colombia', 'Comoros', 'Costa Rica',\n",
       "       'Croatia', 'Cuba', 'Cyprus', 'Czechia',\n",
       "       'Democratic Republic of the Congo', 'Denmark', 'Djibouti',\n",
       "       'Dominica', 'Dominican Republic', 'Ecuador', 'Egypt',\n",
       "       'El Salvador', 'Equatorial Guinea', 'Eritrea', 'Estonia',\n",
       "       'Eswatini', 'Ethiopia', 'European Union[b]',\n",
       "       'Federated States of Micronesia', 'Fiji', 'Finland', 'France',\n",
       "       'Gabon', 'Gambia', 'Georgia', 'Germany', 'Ghana', 'Greece',\n",
       "       'Grenada', 'Guatemala', 'Guinea', 'Guinea-Bissau', 'Guyana',\n",
       "       'Haiti', 'Honduras', 'Hong Kong', 'Hungary', 'Iceland', 'India',\n",
       "       'Indonesia', 'Iran', 'Iraq', 'Israel', 'Italy', 'Ivory Coast',\n",
       "       'Jamaica', 'Japan', 'Jordan', 'Kazakhstan', 'Kenya', 'Kiribati',\n",
       "       'Kosovo', 'Kuwait', 'Kyrgyzstan', 'Laos', 'Latvia', 'Lebanon',\n",
       "       'Lesotho', 'Liberia', 'Libya', 'Liechtenstein', 'Lithuania',\n",
       "       'Luxembourg', 'Madagascar', 'Malawi', 'Malaysia', 'Maldives',\n",
       "       'Mali', 'Malta', 'Marshall Islands', 'Mauritania', 'Mauritius',\n",
       "       'Mexico', 'Moldova', 'Monaco', 'Mongolia', 'Montenegro', 'Morocco',\n",
       "       'Mozambique', 'Myanmar', 'Namibia', 'Nepal', 'Netherlands',\n",
       "       'New Zealand', 'Nicaragua', 'Niger', 'Nigeria', 'North Macedonia',\n",
       "       'Norway', 'Oman', 'Pakistan', 'Palau', 'Palestine', 'Panama',\n",
       "       'Papua New Guinea', 'Paraguay', 'Peru', 'Philippines', 'Poland',\n",
       "       'Portugal', 'Qatar', 'Republic of Ireland',\n",
       "       'Republic of the Congo', 'Romania', 'Russia', 'Rwanda',\n",
       "       'Saint Kitts and Nevis', 'Saint Lucia',\n",
       "       'Saint Vincent and the Grenadines', 'Samoa', 'San Marino',\n",
       "       'Sao Tome and Principe', 'Saudi Arabia', 'Senegal', 'Serbia',\n",
       "       'Seychelles', 'Sierra Leone', 'Singapore', 'Slovakia', 'Slovenia',\n",
       "       'Solomon Islands', 'Somalia', 'South Africa', 'South Korea',\n",
       "       'South Sudan', 'Spain', 'Sri Lanka', 'Sudan', 'Suriname', 'Sweden',\n",
       "       'Switzerland', 'Syria', 'Taiwan', 'Tajikistan', 'Tanzania',\n",
       "       'Thailand', 'Timor-Leste', 'Togo', 'Trinidad and Tobago',\n",
       "       'Tunisia', 'Turkey', 'Uganda', 'Ukraine', 'United Arab Emirates',\n",
       "       'United Kingdom', 'United States', 'Uruguay', 'Uzbekistan',\n",
       "       'Vanuatu', 'Vatican City', 'Venezuela', 'Vietnam', 'World[a]',\n",
       "       'Yemen', 'Zambia', 'Zimbabwe'], dtype=object)"
      ]
     },
     "execution_count": 9,
     "metadata": {},
     "output_type": "execute_result"
    }
   ],
   "source": [
    "np.unique(df['country'])"
   ]
  },
  {
   "cell_type": "markdown",
   "id": "35613993-0941-4e9a-a021-a25d31973f38",
   "metadata": {},
   "source": [
    "One malformed column is present, however, it also contains some helpful information in regards to aggregate numbers.  The malformed value will be dropped, but the information will be retained for reference.\n",
    "<br>\n",
    "<i>^ Countries which do not report data for a column are not included in that column's world total. ^ Data on member states of the European Union are individually listed, but are also summed here for convenience. They are not double-counted in world totals. ^ Does not include special administrative regions (Hong Kong and Macau) or Taiwan.</i>"
   ]
  },
  {
   "cell_type": "markdown",
   "id": "48b2a5c5-44be-4e62-83da-31c80aed1120",
   "metadata": {},
   "source": [
    "<h3>5. Create sub-set for countries and region aggregate totals, while not using the malformed value</h3>"
   ]
  },
  {
   "cell_type": "code",
   "execution_count": 10,
   "id": "9e9e6395-a33a-4087-b2fb-00ded701cab1",
   "metadata": {},
   "outputs": [],
   "source": [
    "df_country = df.iloc[3:194]\n",
    "df_region = df.iloc[[\"0\",\"1\",\"2\"]]"
   ]
  },
  {
   "cell_type": "code",
   "execution_count": 11,
   "id": "4b14f718-5d8b-4f35-96b8-d379302d4b6a",
   "metadata": {},
   "outputs": [
    {
     "data": {
      "text/plain": [
       "array(['Afghanistan', 'Albania', 'Algeria', 'Andorra', 'Angola',\n",
       "       'Antigua and Barbuda', 'Argentina', 'Armenia', 'Australia',\n",
       "       'Austria', 'Azerbaijan', 'Bahamas', 'Bahrain', 'Bangladesh',\n",
       "       'Barbados', 'Belarus', 'Belgium', 'Belize', 'Benin', 'Bhutan',\n",
       "       'Bolivia', 'Bosnia and Herzegovina', 'Botswana', 'Brazil',\n",
       "       'Brunei', 'Bulgaria', 'Burkina Faso', 'Burundi', 'Cabo Verde',\n",
       "       'Cambodia', 'Cameroon', 'Canada', 'Central African Republic',\n",
       "       'Chad', 'Chile', 'China[c]', 'Colombia', 'Comoros', 'Costa Rica',\n",
       "       'Croatia', 'Cuba', 'Cyprus', 'Czechia',\n",
       "       'Democratic Republic of the Congo', 'Denmark', 'Djibouti',\n",
       "       'Dominica', 'Dominican Republic', 'Ecuador', 'Egypt',\n",
       "       'El Salvador', 'Equatorial Guinea', 'Eritrea', 'Estonia',\n",
       "       'Eswatini', 'Ethiopia', 'Fiji', 'Finland', 'France', 'Gabon',\n",
       "       'Gambia', 'Georgia', 'Germany', 'Ghana', 'Greece', 'Grenada',\n",
       "       'Guatemala', 'Guinea', 'Guinea-Bissau', 'Guyana', 'Haiti',\n",
       "       'Honduras', 'Hong Kong', 'Hungary', 'Iceland', 'India',\n",
       "       'Indonesia', 'Iran', 'Iraq', 'Israel', 'Italy', 'Ivory Coast',\n",
       "       'Jamaica', 'Japan', 'Jordan', 'Kazakhstan', 'Kenya', 'Kiribati',\n",
       "       'Kosovo', 'Kuwait', 'Kyrgyzstan', 'Laos', 'Latvia', 'Lebanon',\n",
       "       'Lesotho', 'Liberia', 'Libya', 'Liechtenstein', 'Lithuania',\n",
       "       'Luxembourg', 'Madagascar', 'Malawi', 'Malaysia', 'Maldives',\n",
       "       'Mali', 'Malta', 'Marshall Islands', 'Mauritania', 'Mauritius',\n",
       "       'Mexico', 'Moldova', 'Monaco', 'Mongolia', 'Montenegro', 'Morocco',\n",
       "       'Mozambique', 'Myanmar', 'Namibia', 'Nepal', 'Netherlands',\n",
       "       'New Zealand', 'Nicaragua', 'Niger', 'Nigeria', 'North Macedonia',\n",
       "       'Norway', 'Oman', 'Pakistan', 'Palau', 'Palestine', 'Panama',\n",
       "       'Papua New Guinea', 'Paraguay', 'Peru', 'Philippines', 'Poland',\n",
       "       'Portugal', 'Qatar', 'Republic of Ireland',\n",
       "       'Republic of the Congo', 'Romania', 'Russia', 'Rwanda',\n",
       "       'Saint Kitts and Nevis', 'Saint Lucia',\n",
       "       'Saint Vincent and the Grenadines', 'Samoa', 'San Marino',\n",
       "       'Sao Tome and Principe', 'Saudi Arabia', 'Senegal', 'Serbia',\n",
       "       'Seychelles', 'Sierra Leone', 'Singapore', 'Slovakia', 'Slovenia',\n",
       "       'Solomon Islands', 'Somalia', 'South Africa', 'South Korea',\n",
       "       'South Sudan', 'Spain', 'Sri Lanka', 'Sudan', 'Suriname', 'Sweden',\n",
       "       'Switzerland', 'Syria', 'Taiwan', 'Tajikistan', 'Tanzania',\n",
       "       'Thailand', 'Timor-Leste', 'Togo', 'Trinidad and Tobago',\n",
       "       'Tunisia', 'Turkey', 'Uganda', 'Ukraine', 'United Arab Emirates',\n",
       "       'United Kingdom', 'Uruguay', 'Uzbekistan', 'Vanuatu',\n",
       "       'Vatican City', 'Venezuela', 'Vietnam', 'Yemen', 'Zambia',\n",
       "       'Zimbabwe'], dtype=object)"
      ]
     },
     "execution_count": 11,
     "metadata": {},
     "output_type": "execute_result"
    }
   ],
   "source": [
    "np.unique(df_country['country'])"
   ]
  },
  {
   "cell_type": "code",
   "execution_count": 12,
   "id": "ac78d310-ae89-4c57-8ebe-a68168bf7861",
   "metadata": {},
   "outputs": [
    {
     "data": {
      "text/plain": [
       "array(['European Union[b]', 'United States', 'World[a]'], dtype=object)"
      ]
     },
     "execution_count": 12,
     "metadata": {},
     "output_type": "execute_result"
    }
   ],
   "source": [
    "np.unique(df_region['country'])"
   ]
  },
  {
   "cell_type": "markdown",
   "id": "f6538281-9d35-4351-8f61-5350e2eee1c4",
   "metadata": {},
   "source": [
    "<h3>6. Rename column in region df</h3>"
   ]
  },
  {
   "cell_type": "code",
   "execution_count": 13,
   "id": "5423246e-4e02-4de5-be3b-fb35b850f1d5",
   "metadata": {},
   "outputs": [],
   "source": [
    "df_region = df_region.rename(columns = {\"country\":\"region\"})"
   ]
  },
  {
   "cell_type": "code",
   "execution_count": 14,
   "id": "c6c74bf0-68f1-4eab-ac76-7463869a9107",
   "metadata": {},
   "outputs": [
    {
     "data": {
      "text/html": [
       "<div>\n",
       "<style scoped>\n",
       "    .dataframe tbody tr th:only-of-type {\n",
       "        vertical-align: middle;\n",
       "    }\n",
       "\n",
       "    .dataframe tbody tr th {\n",
       "        vertical-align: top;\n",
       "    }\n",
       "\n",
       "    .dataframe thead th {\n",
       "        text-align: right;\n",
       "    }\n",
       "</style>\n",
       "<table border=\"1\" class=\"dataframe\">\n",
       "  <thead>\n",
       "    <tr style=\"text-align: right;\">\n",
       "      <th></th>\n",
       "      <th>region</th>\n",
       "      <th>Cases</th>\n",
       "      <th>Deaths</th>\n",
       "    </tr>\n",
       "  </thead>\n",
       "  <tbody>\n",
       "    <tr>\n",
       "      <th>0</th>\n",
       "      <td>World[a]</td>\n",
       "      <td>242987401</td>\n",
       "      <td>4938251</td>\n",
       "    </tr>\n",
       "    <tr>\n",
       "      <th>1</th>\n",
       "      <td>United States</td>\n",
       "      <td>45400466</td>\n",
       "      <td>735373</td>\n",
       "    </tr>\n",
       "    <tr>\n",
       "      <th>2</th>\n",
       "      <td>European Union[b]</td>\n",
       "      <td>39371457</td>\n",
       "      <td>788718</td>\n",
       "    </tr>\n",
       "  </tbody>\n",
       "</table>\n",
       "</div>"
      ],
      "text/plain": [
       "              region      Cases   Deaths\n",
       "0           World[a]  242987401  4938251\n",
       "1      United States   45400466   735373\n",
       "2  European Union[b]   39371457   788718"
      ]
     },
     "execution_count": 14,
     "metadata": {},
     "output_type": "execute_result"
    }
   ],
   "source": [
    "df_region"
   ]
  },
  {
   "cell_type": "markdown",
   "id": "98db5154-6d25-4627-a47e-8b31317ebc41",
   "metadata": {},
   "source": [
    "<h3>7. Clean up values in region to remove extra characters</h3>"
   ]
  },
  {
   "cell_type": "code",
   "execution_count": 15,
   "id": "cab90a52-d0ba-4330-9ede-7d9e99eacd49",
   "metadata": {},
   "outputs": [],
   "source": [
    "df_region.region = df_region.region.str.strip('[a]')\n",
    "df_region.region = df_region.region.str.strip('[b]')"
   ]
  },
  {
   "cell_type": "code",
   "execution_count": 16,
   "id": "39d92349-8ab3-4eb0-8b89-3a2abd51dcd9",
   "metadata": {},
   "outputs": [
    {
     "data": {
      "text/html": [
       "<div>\n",
       "<style scoped>\n",
       "    .dataframe tbody tr th:only-of-type {\n",
       "        vertical-align: middle;\n",
       "    }\n",
       "\n",
       "    .dataframe tbody tr th {\n",
       "        vertical-align: top;\n",
       "    }\n",
       "\n",
       "    .dataframe thead th {\n",
       "        text-align: right;\n",
       "    }\n",
       "</style>\n",
       "<table border=\"1\" class=\"dataframe\">\n",
       "  <thead>\n",
       "    <tr style=\"text-align: right;\">\n",
       "      <th></th>\n",
       "      <th>region</th>\n",
       "      <th>Cases</th>\n",
       "      <th>Deaths</th>\n",
       "    </tr>\n",
       "  </thead>\n",
       "  <tbody>\n",
       "    <tr>\n",
       "      <th>0</th>\n",
       "      <td>World</td>\n",
       "      <td>242987401</td>\n",
       "      <td>4938251</td>\n",
       "    </tr>\n",
       "    <tr>\n",
       "      <th>1</th>\n",
       "      <td>United States</td>\n",
       "      <td>45400466</td>\n",
       "      <td>735373</td>\n",
       "    </tr>\n",
       "    <tr>\n",
       "      <th>2</th>\n",
       "      <td>European Union</td>\n",
       "      <td>39371457</td>\n",
       "      <td>788718</td>\n",
       "    </tr>\n",
       "  </tbody>\n",
       "</table>\n",
       "</div>"
      ],
      "text/plain": [
       "           region      Cases   Deaths\n",
       "0           World  242987401  4938251\n",
       "1   United States   45400466   735373\n",
       "2  European Union   39371457   788718"
      ]
     },
     "execution_count": 16,
     "metadata": {},
     "output_type": "execute_result"
    }
   ],
   "source": [
    "df_region"
   ]
  },
  {
   "cell_type": "markdown",
   "id": "42551b84-ca28-4896-a773-1bec08eea78d",
   "metadata": {},
   "source": [
    "<h3>8. Make country names uppercase to match other datasets to be used</h3>"
   ]
  },
  {
   "cell_type": "code",
   "execution_count": 17,
   "id": "5eb528f0-c7e9-49f7-bacb-62191cf914e2",
   "metadata": {},
   "outputs": [
    {
     "name": "stderr",
     "output_type": "stream",
     "text": [
      "<ipython-input-17-3d82ff78366d>:1: SettingWithCopyWarning: \n",
      "A value is trying to be set on a copy of a slice from a DataFrame.\n",
      "Try using .loc[row_indexer,col_indexer] = value instead\n",
      "\n",
      "See the caveats in the documentation: https://pandas.pydata.org/pandas-docs/stable/user_guide/indexing.html#returning-a-view-versus-a-copy\n",
      "  df_country['country'] = df_country['country'].str.upper()\n"
     ]
    }
   ],
   "source": [
    "df_country['country'] = df_country['country'].str.upper()"
   ]
  },
  {
   "cell_type": "code",
   "execution_count": 18,
   "id": "7c30cc2a-3c44-4b10-94fb-f532de7af114",
   "metadata": {},
   "outputs": [
    {
     "data": {
      "text/html": [
       "<div>\n",
       "<style scoped>\n",
       "    .dataframe tbody tr th:only-of-type {\n",
       "        vertical-align: middle;\n",
       "    }\n",
       "\n",
       "    .dataframe tbody tr th {\n",
       "        vertical-align: top;\n",
       "    }\n",
       "\n",
       "    .dataframe thead th {\n",
       "        text-align: right;\n",
       "    }\n",
       "</style>\n",
       "<table border=\"1\" class=\"dataframe\">\n",
       "  <thead>\n",
       "    <tr style=\"text-align: right;\">\n",
       "      <th></th>\n",
       "      <th>country</th>\n",
       "      <th>Cases</th>\n",
       "      <th>Deaths</th>\n",
       "    </tr>\n",
       "  </thead>\n",
       "  <tbody>\n",
       "    <tr>\n",
       "      <th>3</th>\n",
       "      <td>INDIA</td>\n",
       "      <td>34159562</td>\n",
       "      <td>453708</td>\n",
       "    </tr>\n",
       "    <tr>\n",
       "      <th>4</th>\n",
       "      <td>BRAZIL</td>\n",
       "      <td>21711843</td>\n",
       "      <td>605139</td>\n",
       "    </tr>\n",
       "    <tr>\n",
       "      <th>5</th>\n",
       "      <td>UNITED KINGDOM</td>\n",
       "      <td>8730787</td>\n",
       "      <td>139743</td>\n",
       "    </tr>\n",
       "    <tr>\n",
       "      <th>6</th>\n",
       "      <td>RUSSIA</td>\n",
       "      <td>8041581</td>\n",
       "      <td>224369</td>\n",
       "    </tr>\n",
       "    <tr>\n",
       "      <th>7</th>\n",
       "      <td>TURKEY</td>\n",
       "      <td>7800766</td>\n",
       "      <td>68700</td>\n",
       "    </tr>\n",
       "    <tr>\n",
       "      <th>...</th>\n",
       "      <td>...</td>\n",
       "      <td>...</td>\n",
       "      <td>...</td>\n",
       "    </tr>\n",
       "    <tr>\n",
       "      <th>189</th>\n",
       "      <td>PALAU</td>\n",
       "      <td>8</td>\n",
       "      <td>0</td>\n",
       "    </tr>\n",
       "    <tr>\n",
       "      <th>190</th>\n",
       "      <td>VANUATU</td>\n",
       "      <td>4</td>\n",
       "      <td>1</td>\n",
       "    </tr>\n",
       "    <tr>\n",
       "      <th>191</th>\n",
       "      <td>MARSHALL ISLANDS</td>\n",
       "      <td>4</td>\n",
       "      <td>—</td>\n",
       "    </tr>\n",
       "    <tr>\n",
       "      <th>192</th>\n",
       "      <td>SAMOA</td>\n",
       "      <td>3</td>\n",
       "      <td>—</td>\n",
       "    </tr>\n",
       "    <tr>\n",
       "      <th>193</th>\n",
       "      <td>KIRIBATI</td>\n",
       "      <td>2</td>\n",
       "      <td>—</td>\n",
       "    </tr>\n",
       "  </tbody>\n",
       "</table>\n",
       "<p>191 rows × 3 columns</p>\n",
       "</div>"
      ],
      "text/plain": [
       "              country     Cases  Deaths\n",
       "3               INDIA  34159562  453708\n",
       "4              BRAZIL  21711843  605139\n",
       "5      UNITED KINGDOM   8730787  139743\n",
       "6              RUSSIA   8041581  224369\n",
       "7              TURKEY   7800766   68700\n",
       "..                ...       ...     ...\n",
       "189             PALAU         8       0\n",
       "190           VANUATU         4       1\n",
       "191  MARSHALL ISLANDS         4       —\n",
       "192             SAMOA         3       —\n",
       "193          KIRIBATI         2       —\n",
       "\n",
       "[191 rows x 3 columns]"
      ]
     },
     "execution_count": 18,
     "metadata": {},
     "output_type": "execute_result"
    }
   ],
   "source": [
    "df_country"
   ]
  },
  {
   "cell_type": "markdown",
   "id": "a5d40c4b-ef9c-44ce-b821-f90a40aef875",
   "metadata": {},
   "source": [
    "<h3>9. Sort by country and create new index</h3>"
   ]
  },
  {
   "cell_type": "code",
   "execution_count": 19,
   "id": "7c61794a-6813-4fd3-8c32-9816c217a451",
   "metadata": {},
   "outputs": [],
   "source": [
    "df_country = df_country.sort_values(['country']).reset_index(drop=True)"
   ]
  },
  {
   "cell_type": "code",
   "execution_count": 20,
   "id": "df8876ce-ba3f-4904-96f9-cf5e552544dd",
   "metadata": {},
   "outputs": [
    {
     "data": {
      "text/html": [
       "<div>\n",
       "<style scoped>\n",
       "    .dataframe tbody tr th:only-of-type {\n",
       "        vertical-align: middle;\n",
       "    }\n",
       "\n",
       "    .dataframe tbody tr th {\n",
       "        vertical-align: top;\n",
       "    }\n",
       "\n",
       "    .dataframe thead th {\n",
       "        text-align: right;\n",
       "    }\n",
       "</style>\n",
       "<table border=\"1\" class=\"dataframe\">\n",
       "  <thead>\n",
       "    <tr style=\"text-align: right;\">\n",
       "      <th></th>\n",
       "      <th>country</th>\n",
       "      <th>Cases</th>\n",
       "      <th>Deaths</th>\n",
       "    </tr>\n",
       "  </thead>\n",
       "  <tbody>\n",
       "    <tr>\n",
       "      <th>0</th>\n",
       "      <td>AFGHANISTAN</td>\n",
       "      <td>155931</td>\n",
       "      <td>7252</td>\n",
       "    </tr>\n",
       "    <tr>\n",
       "      <th>1</th>\n",
       "      <td>ALBANIA</td>\n",
       "      <td>180623</td>\n",
       "      <td>2863</td>\n",
       "    </tr>\n",
       "    <tr>\n",
       "      <th>2</th>\n",
       "      <td>ALGERIA</td>\n",
       "      <td>205683</td>\n",
       "      <td>5883</td>\n",
       "    </tr>\n",
       "    <tr>\n",
       "      <th>3</th>\n",
       "      <td>ANDORRA</td>\n",
       "      <td>15404</td>\n",
       "      <td>130</td>\n",
       "    </tr>\n",
       "    <tr>\n",
       "      <th>4</th>\n",
       "      <td>ANGOLA</td>\n",
       "      <td>63691</td>\n",
       "      <td>1693</td>\n",
       "    </tr>\n",
       "    <tr>\n",
       "      <th>...</th>\n",
       "      <td>...</td>\n",
       "      <td>...</td>\n",
       "      <td>...</td>\n",
       "    </tr>\n",
       "    <tr>\n",
       "      <th>186</th>\n",
       "      <td>VENEZUELA</td>\n",
       "      <td>397370</td>\n",
       "      <td>4775</td>\n",
       "    </tr>\n",
       "    <tr>\n",
       "      <th>187</th>\n",
       "      <td>VIETNAM</td>\n",
       "      <td>881522</td>\n",
       "      <td>21543</td>\n",
       "    </tr>\n",
       "    <tr>\n",
       "      <th>188</th>\n",
       "      <td>YEMEN</td>\n",
       "      <td>9650</td>\n",
       "      <td>1835</td>\n",
       "    </tr>\n",
       "    <tr>\n",
       "      <th>189</th>\n",
       "      <td>ZAMBIA</td>\n",
       "      <td>209610</td>\n",
       "      <td>3658</td>\n",
       "    </tr>\n",
       "    <tr>\n",
       "      <th>190</th>\n",
       "      <td>ZIMBABWE</td>\n",
       "      <td>132588</td>\n",
       "      <td>4663</td>\n",
       "    </tr>\n",
       "  </tbody>\n",
       "</table>\n",
       "<p>191 rows × 3 columns</p>\n",
       "</div>"
      ],
      "text/plain": [
       "         country   Cases Deaths\n",
       "0    AFGHANISTAN  155931   7252\n",
       "1        ALBANIA  180623   2863\n",
       "2        ALGERIA  205683   5883\n",
       "3        ANDORRA   15404    130\n",
       "4         ANGOLA   63691   1693\n",
       "..           ...     ...    ...\n",
       "186    VENEZUELA  397370   4775\n",
       "187      VIETNAM  881522  21543\n",
       "188        YEMEN    9650   1835\n",
       "189       ZAMBIA  209610   3658\n",
       "190     ZIMBABWE  132588   4663\n",
       "\n",
       "[191 rows x 3 columns]"
      ]
     },
     "execution_count": 20,
     "metadata": {},
     "output_type": "execute_result"
    }
   ],
   "source": [
    "df_country"
   ]
  },
  {
   "cell_type": "markdown",
   "id": "83aec3c9-d19d-4fd7-b6dc-2e660dfb822c",
   "metadata": {},
   "source": [
    "<h3>10. Check for any missing values in the cleaned dataset</h3>"
   ]
  },
  {
   "cell_type": "code",
   "execution_count": 21,
   "id": "ee0691c2-6d4c-4a2c-a5a1-6caef790ba79",
   "metadata": {},
   "outputs": [
    {
     "name": "stdout",
     "output_type": "stream",
     "text": [
      "country has no missing values\n",
      "Cases has no missing values\n",
      "Deaths has no missing values\n"
     ]
    }
   ],
   "source": [
    "for c in df_country.columns:\n",
    "    miss = df_country[c].isnull().sum()\n",
    "    if miss>0:\n",
    "        print(\"{} has {} missing value(s)\".format(c,miss))\n",
    "    else:\n",
    "        print(\"{} has no missing values\".format(c))"
   ]
  },
  {
   "cell_type": "code",
   "execution_count": null,
   "id": "306c3b17-e8b8-4963-9052-79796b50510a",
   "metadata": {},
   "outputs": [],
   "source": []
  }
 ],
 "metadata": {
  "kernelspec": {
   "display_name": "Python 3 (ipykernel)",
   "language": "python",
   "name": "python3"
  },
  "language_info": {
   "codemirror_mode": {
    "name": "ipython",
    "version": 3
   },
   "file_extension": ".py",
   "mimetype": "text/x-python",
   "name": "python",
   "nbconvert_exporter": "python",
   "pygments_lexer": "ipython3",
   "version": "3.8.12"
  }
 },
 "nbformat": 4,
 "nbformat_minor": 5
}
